{
 "cells": [
  {
   "cell_type": "code",
   "execution_count": 2,
   "metadata": {},
   "outputs": [],
   "source": [
    "from __future__ import print_function\n",
    "import random"
   ]
  },
  {
   "cell_type": "code",
   "execution_count": 4,
   "metadata": {},
   "outputs": [],
   "source": [
    "buzz = ('continuout testing', 'continuous integration', 'continuous deployment', 'continuous improvement', 'devops')\n",
    "adjectives = ('complete','modern','self-service','integrated','end-to-end')\n",
    "adverbs = ('remarkbly', 'enormously','substantially','significantly','seriously')\n",
    "verbs=('accelerates','improves','enhances','revamps','boosts')"
   ]
  },
  {
   "cell_type": "code",
   "execution_count": 7,
   "metadata": {},
   "outputs": [],
   "source": [
    "def sample(l,n=1):\n",
    "    result = random.sample(l,n)\n",
    "    if n==1:\n",
    "        return result[0]\n",
    "    return result\n",
    "\n",
    "def generate_buzz():\n",
    "    buzz_terms = sample(buzz,2)\n",
    "    phrase = ' '.join([sample(adjectives),buzz_terms[0],sample(adverbs),sample(verbs),buzz_terms[1]])\n",
    "    return phrase.title()"
   ]
  },
  {
   "cell_type": "code",
   "execution_count": 8,
   "metadata": {},
   "outputs": [
    {
     "name": "stdout",
     "output_type": "stream",
     "text": [
      "Complete Devops Seriously Enhances Continuous Integration\n"
     ]
    }
   ],
   "source": [
    "if __name__ == \"__main__\":\n",
    "    print(generate_buzz())"
   ]
  },
  {
   "cell_type": "code",
   "execution_count": null,
   "metadata": {},
   "outputs": [],
   "source": []
  }
 ],
 "metadata": {
  "kernelspec": {
   "display_name": "Python 3",
   "language": "python",
   "name": "python3"
  },
  "language_info": {
   "codemirror_mode": {
    "name": "ipython",
    "version": 3
   },
   "file_extension": ".py",
   "mimetype": "text/x-python",
   "name": "python",
   "nbconvert_exporter": "python",
   "pygments_lexer": "ipython3",
   "version": "3.6.9"
  }
 },
 "nbformat": 4,
 "nbformat_minor": 2
}
